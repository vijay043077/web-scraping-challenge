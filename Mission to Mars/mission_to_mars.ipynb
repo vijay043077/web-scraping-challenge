{
 "cells": [
  {
   "cell_type": "code",
   "execution_count": 20,
   "metadata": {
    "ExecuteTime": {
     "end_time": "2020-07-15T04:19:56.629312Z",
     "start_time": "2020-07-15T04:19:56.623310Z"
    }
   },
   "outputs": [],
   "source": [
    "# dependencies\n",
    "from bs4 import BeautifulSoup \n",
    "from splinter import Browser \n",
    "import pandas as pd\n",
    "import time\n",
    "import requests\n",
    "import re"
   ]
  },
  {
   "cell_type": "code",
   "execution_count": 21,
   "metadata": {
    "ExecuteTime": {
     "end_time": "2020-07-15T04:20:04.341383Z",
     "start_time": "2020-07-15T04:20:01.167078Z"
    }
   },
   "outputs": [],
   "source": [
    "# set up the path and browser\n",
    "executable_path = {'executable_path': 'C:/Users/vijay/Downloads/chromedriver.exe'}\n",
    "browser = Browser('chrome', **executable_path, headless=False)"
   ]
  },
  {
   "cell_type": "code",
   "execution_count": 5,
   "metadata": {
    "ExecuteTime": {
     "end_time": "2020-07-14T20:56:30.020136Z",
     "start_time": "2020-07-14T20:56:28.134672Z"
    }
   },
   "outputs": [
    {
     "name": "stdout",
     "output_type": "stream",
     "text": [
      "Mars Now\n",
      "The first helicopter attempting to fly on another planet is a marvel of engineering. Get up to speed with these key facts about its plans.\n"
     ]
    }
   ],
   "source": [
    "# assign url; use browser to 'get' url\n",
    "url_news = \"https://mars.nasa.gov/news/\"\n",
    "browser.visit(url_news)\n",
    "\n",
    "time.sleep(1)\n",
    "\n",
    "# create BeautifulSoup object; parse with 'html.parser'\n",
    "html = browser.html\n",
    "soup = BeautifulSoup(html, 'html.parser')\n",
    "\n",
    "# Use .find to locate the \"div\" and \"class\" and return only text\n",
    "news_title = soup.find('div', class_= 'content_title')\n",
    "\n",
    "news_p = soup.find('div', class_= 'article_teaser_body')\n",
    "\n",
    "# print text to confirm \n",
    "print(news_title.text)\n",
    "print(news_p.text)"
   ]
  },
  {
   "cell_type": "code",
   "execution_count": 6,
   "metadata": {
    "ExecuteTime": {
     "end_time": "2020-07-14T20:56:34.974514Z",
     "start_time": "2020-07-14T20:56:32.657586Z"
    }
   },
   "outputs": [
    {
     "name": "stdout",
     "output_type": "stream",
     "text": [
      "https://www.jpl.nasa.gov//spaceimages/images/mediumsize/PIA19964_ip.jpg\n"
     ]
    }
   ],
   "source": [
    "# assign url; use browser to 'get' url\n",
    "url_image = \"https://www.jpl.nasa.gov/spaceimages/?search=&category=Mars\"\n",
    "browser.visit(url_image)\n",
    "\n",
    "time.sleep(1)\n",
    "\n",
    "# create BeautifulSoup object; parse with 'html.parser'\n",
    "html = browser.html\n",
    "soup = BeautifulSoup(html, 'html.parser')\n",
    "\n",
    "# Use splinter to navigate the site and find the image url for the current Featured Mars Image\n",
    "image = soup.find('img', class_= 'fancybox-image')\n",
    "footer = soup.find(\"footer\")\n",
    "link = footer.find('a')\n",
    "\n",
    "# assign the url string to a variable called `featured_image_url`.\n",
    "featured_image_url = link['data-fancybox-href']\n",
    "\n",
    "# save a complete url string for this image\n",
    "print('https://www.jpl.nasa.gov/' + featured_image_url)"
   ]
  },
  {
   "cell_type": "code",
   "execution_count": 7,
   "metadata": {
    "ExecuteTime": {
     "end_time": "2020-07-14T20:56:40.304559Z",
     "start_time": "2020-07-14T20:56:38.017878Z"
    }
   },
   "outputs": [
    {
     "name": "stdout",
     "output_type": "stream",
     "text": [
      "InSight sol 579 (2020-07-13) low -88.5ºC (-127.4ºF) high -3.7ºC (25.4ºF)\n",
      "winds from the WNW at 5.0 m/s (11.2 mph) gusting to 14.8 m/s (33.1 mph)\n",
      "pressure at 7.80 hPa\n"
     ]
    }
   ],
   "source": [
    "# assign url; use browser to 'get' url\n",
    "url_mars_weather = \"https://twitter.com/marswxreport?lang=en\"\n",
    "browser.visit(url_mars_weather)\n",
    "\n",
    "time.sleep(1)\n",
    "\n",
    "# create BeautifulSoup object; parse with 'html.parser'\n",
    "html = browser.html\n",
    "soup = BeautifulSoup(html, 'html.parser')\n",
    "\n",
    "# using regular expressions .compile function\n",
    "mars_weather = re.compile(r'sol')\n",
    "mars_weather = soup.find('span', text = mars_weather).text \n",
    "print(mars_weather)"
   ]
  },
  {
   "cell_type": "code",
   "execution_count": 8,
   "metadata": {
    "ExecuteTime": {
     "end_time": "2020-07-14T20:56:46.505183Z",
     "start_time": "2020-07-14T20:56:43.494918Z"
    }
   },
   "outputs": [
    {
     "name": "stdout",
     "output_type": "stream",
     "text": [
      "Equatorial Diameter:6,792 kmPolar Diameter:6,752 kmMass:6.39 × 10^23 kg (0.11 Earths)Moons:2 (Phobos & Deimos)Orbit Distance:227,943,824 km (1.38 AU)Orbit Period:687 days (1.9 years)Surface Temperature: -87 to -5 °CFirst Record:2nd millennium BCRecorded By:Egyptian astronomers\n"
     ]
    }
   ],
   "source": [
    "# assign url; use browser to 'get' url\n",
    "url_facts = \"https://space-facts.com/mars/\"\n",
    "browser.visit(url_facts)\n",
    "\n",
    "time.sleep(1)\n",
    "\n",
    "# create BeautifulSoup object; parse with 'html.parser'\n",
    "html = browser.html\n",
    "soup = BeautifulSoup(html, 'html.parser')\n",
    "\n",
    "# making a get request \n",
    "response = requests.get(url_facts)\n",
    "\n",
    "# scrape the table data from 'table' and 'id' elements\n",
    "mars_facts = soup.find('table', id =\"tablepress-p-mars-no-2\").text\n",
    "print(mars_facts)"
   ]
  },
  {
   "cell_type": "code",
   "execution_count": 9,
   "metadata": {
    "ExecuteTime": {
     "end_time": "2020-07-14T20:56:49.077368Z",
     "start_time": "2020-07-14T20:56:48.382555Z"
    }
   },
   "outputs": [
    {
     "data": {
      "text/plain": [
       "[                      0                              1\n",
       " 0  Equatorial Diameter:                       6,792 km\n",
       " 1       Polar Diameter:                       6,752 km\n",
       " 2                 Mass:  6.39 × 10^23 kg (0.11 Earths)\n",
       " 3                Moons:            2 (Phobos & Deimos)\n",
       " 4       Orbit Distance:       227,943,824 km (1.38 AU)\n",
       " 5         Orbit Period:           687 days (1.9 years)\n",
       " 6  Surface Temperature:                   -87 to -5 °C\n",
       " 7         First Record:              2nd millennium BC\n",
       " 8          Recorded By:           Egyptian astronomers,\n",
       "   Mars - Earth Comparison             Mars            Earth\n",
       " 0               Diameter:         6,779 km        12,742 km\n",
       " 1                   Mass:  6.39 × 10^23 kg  5.97 × 10^24 kg\n",
       " 2                  Moons:                2                1\n",
       " 3      Distance from Sun:   227,943,824 km   149,598,262 km\n",
       " 4         Length of Year:   687 Earth days      365.24 days\n",
       " 5            Temperature:    -153 to 20 °C      -88 to 58°C,\n",
       "                       0                              1\n",
       " 0  Equatorial Diameter:                       6,792 km\n",
       " 1       Polar Diameter:                       6,752 km\n",
       " 2                 Mass:  6.39 × 10^23 kg (0.11 Earths)\n",
       " 3                Moons:            2 (Phobos & Deimos)\n",
       " 4       Orbit Distance:       227,943,824 km (1.38 AU)\n",
       " 5         Orbit Period:           687 days (1.9 years)\n",
       " 6  Surface Temperature:                   -87 to -5 °C\n",
       " 7         First Record:              2nd millennium BC\n",
       " 8          Recorded By:           Egyptian astronomers]"
      ]
     },
     "execution_count": 9,
     "metadata": {},
     "output_type": "execute_result"
    }
   ],
   "source": [
    "table = pd.read_html(url_facts)\n",
    "table"
   ]
  },
  {
   "cell_type": "code",
   "execution_count": 10,
   "metadata": {
    "ExecuteTime": {
     "end_time": "2020-07-14T20:56:51.641342Z",
     "start_time": "2020-07-14T20:56:51.630332Z"
    }
   },
   "outputs": [
    {
     "data": {
      "text/plain": [
       "'<table border=\"1\" class=\"dataframe\">\\n  <thead>\\n    <tr style=\"text-align: right;\">\\n      <th></th>\\n      <th>0</th>\\n      <th>1</th>\\n    </tr>\\n  </thead>\\n  <tbody>\\n    <tr>\\n      <th>0</th>\\n      <td>Equatorial Diameter:</td>\\n      <td>6,792 km</td>\\n    </tr>\\n    <tr>\\n      <th>1</th>\\n      <td>Polar Diameter:</td>\\n      <td>6,752 km</td>\\n    </tr>\\n    <tr>\\n      <th>2</th>\\n      <td>Mass:</td>\\n      <td>6.39 × 10^23 kg (0.11 Earths)</td>\\n    </tr>\\n    <tr>\\n      <th>3</th>\\n      <td>Moons:</td>\\n      <td>2 (Phobos &amp; Deimos)</td>\\n    </tr>\\n    <tr>\\n      <th>4</th>\\n      <td>Orbit Distance:</td>\\n      <td>227,943,824 km (1.38 AU)</td>\\n    </tr>\\n    <tr>\\n      <th>5</th>\\n      <td>Orbit Period:</td>\\n      <td>687 days (1.9 years)</td>\\n    </tr>\\n    <tr>\\n      <th>6</th>\\n      <td>Surface Temperature:</td>\\n      <td>-87 to -5 °C</td>\\n    </tr>\\n    <tr>\\n      <th>7</th>\\n      <td>First Record:</td>\\n      <td>2nd millennium BC</td>\\n    </tr>\\n    <tr>\\n      <th>8</th>\\n      <td>Recorded By:</td>\\n      <td>Egyptian astronomers</td>\\n    </tr>\\n  </tbody>\\n</table>'"
      ]
     },
     "execution_count": 10,
     "metadata": {},
     "output_type": "execute_result"
    }
   ],
   "source": [
    "df = table[0]\n",
    "html_table = df.to_html()\n",
    "html_table"
   ]
  },
  {
   "cell_type": "code",
   "execution_count": 11,
   "metadata": {
    "ExecuteTime": {
     "end_time": "2020-07-14T20:56:54.157195Z",
     "start_time": "2020-07-14T20:56:54.150206Z"
    }
   },
   "outputs": [],
   "source": [
    "df.to_html('table.html')"
   ]
  },
  {
   "cell_type": "code",
   "execution_count": 23,
   "metadata": {
    "ExecuteTime": {
     "end_time": "2020-07-15T04:20:18.149145Z",
     "start_time": "2020-07-15T04:20:10.566439Z"
    }
   },
   "outputs": [],
   "source": [
    "# assign url; use browser to 'get' url\n",
    "url_hemisphere = \"https://astrogeology.usgs.gov/search/results?q=hemisphere+enhanced&k1=target&v1=Mars\"\n",
    "browser.visit(url_hemisphere)\n",
    "\n",
    "time.sleep(1)\n",
    "\n",
    "# create BeautifulSoup object; parse with 'html.parser'\n",
    "html = browser.html\n",
    "soup = BeautifulSoup(html, 'html.parser')\n",
    "\n",
    "# variable to locate the 'div' with 'item' from url\n",
    "items = soup.find_all('div', class_= 'item')\n",
    "\n",
    "# create an empty list to store results\n",
    "url_hemisphere_img = []\n",
    "\n",
    "# set variable to visit main url \n",
    "main_url = 'https://astrogeology.usgs.gov'"
   ]
  },
  {
   "cell_type": "code",
   "execution_count": 25,
   "metadata": {
    "ExecuteTime": {
     "end_time": "2020-07-15T04:20:42.695388Z",
     "start_time": "2020-07-15T04:20:39.596617Z"
    }
   },
   "outputs": [
    {
     "data": {
      "text/plain": [
       "[{'title': 'Cerberus Hemisphere Enhanced',\n",
       "  'img_url': 'https://astrogeology.usgs.gov/cache/images/f5e372a36edfa389625da6d0cc25d905_cerberus_enhanced.tif_full.jpg'},\n",
       " {'title': 'Schiaparelli Hemisphere Enhanced',\n",
       "  'img_url': 'https://astrogeology.usgs.gov/cache/images/3778f7b43bbbc89d6e3cfabb3613ba93_schiaparelli_enhanced.tif_full.jpg'},\n",
       " {'title': 'Syrtis Major Hemisphere Enhanced',\n",
       "  'img_url': 'https://astrogeology.usgs.gov/cache/images/555e6403a6ddd7ba16ddb0e471cadcf7_syrtis_major_enhanced.tif_full.jpg'},\n",
       " {'title': 'Valles Marineris Hemisphere Enhanced',\n",
       "  'img_url': 'https://astrogeology.usgs.gov/cache/images/b3c7c6c9138f57b4756be9b9c43e3a48_valles_marineris_enhanced.tif_full.jpg'}]"
      ]
     },
     "execution_count": 25,
     "metadata": {},
     "output_type": "execute_result"
    }
   ],
   "source": [
    "# create a for loop \n",
    "for i in items:\n",
    "    \n",
    "    # locate titles\n",
    "    title = i.find('h3').text\n",
    "    \n",
    "    # locate first partial img_url\n",
    "    partial_img_url = i.find('a', class_= 'itemLink product-item')['href']\n",
    "    \n",
    "    # return to main_url; then partial img url\n",
    "    browser.visit(main_url + partial_img_url)\n",
    "    \n",
    "    # initiate new html browser\n",
    "    partial_img_html = browser.html\n",
    "    \n",
    "    # use beautiful soup and splinter to scrape each page\n",
    "    soup = BeautifulSoup(partial_img_html, 'html.parser')\n",
    "    \n",
    "    # set variable to find full 'img' & 'src' urls\n",
    "    img_url = main_url + soup.find('img', class_='wide-image')['src']\n",
    "    \n",
    "    # append titles and imgs; return as a list of dictionaries\n",
    "    url_hemisphere_img.append({\"title\": title, \"img_url\": img_url})\n",
    "    \n",
    "url_hemisphere_img"
   ]
  },
  {
   "cell_type": "code",
   "execution_count": null,
   "metadata": {},
   "outputs": [],
   "source": []
  }
 ],
 "metadata": {
  "hide_input": false,
  "kernelspec": {
   "display_name": "Python 3",
   "language": "python",
   "name": "python3"
  },
  "language_info": {
   "codemirror_mode": {
    "name": "ipython",
    "version": 3
   },
   "file_extension": ".py",
   "mimetype": "text/x-python",
   "name": "python",
   "nbconvert_exporter": "python",
   "pygments_lexer": "ipython3",
   "version": "3.7.4"
  },
  "toc": {
   "base_numbering": 1,
   "nav_menu": {},
   "number_sections": true,
   "sideBar": true,
   "skip_h1_title": false,
   "title_cell": "Table of Contents",
   "title_sidebar": "Contents",
   "toc_cell": false,
   "toc_position": {},
   "toc_section_display": true,
   "toc_window_display": false
  },
  "varInspector": {
   "cols": {
    "lenName": 16,
    "lenType": 16,
    "lenVar": 40
   },
   "kernels_config": {
    "python": {
     "delete_cmd_postfix": "",
     "delete_cmd_prefix": "del ",
     "library": "var_list.py",
     "varRefreshCmd": "print(var_dic_list())"
    },
    "r": {
     "delete_cmd_postfix": ") ",
     "delete_cmd_prefix": "rm(",
     "library": "var_list.r",
     "varRefreshCmd": "cat(var_dic_list()) "
    }
   },
   "types_to_exclude": [
    "module",
    "function",
    "builtin_function_or_method",
    "instance",
    "_Feature"
   ],
   "window_display": false
  }
 },
 "nbformat": 4,
 "nbformat_minor": 2
}
